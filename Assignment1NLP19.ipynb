{
 "cells": [
  {
   "cell_type": "markdown",
   "metadata": {},
   "source": [
    "# Assignment 1 on Natural Language Processing\n",
    "\n",
    "## Date : 26th July, 2019\n",
    "\n",
    "### Instructor : Prof. Sudeshna Sarkar\n",
    "\n",
    "### Teaching Assistants : Ishani Mondal, Debanjana Kar, Sukannya Purkayastha"
   ]
  },
  {
   "cell_type": "markdown",
   "metadata": {},
   "source": [
    "The central idea of this assignment is to make you familiar with programming in python and also the language modelling task of natural language processing using the python library, nltk. Please find the installation details below.\n",
    "\n"
   ]
  },
  {
   "cell_type": "markdown",
   "metadata": {},
   "source": [
    "## Installation of NLTK and Anaconda:\n",
    "\n",
    "To ensure we are all on the same page, the coding environment will be in `python3`. We suggest downloading \n",
    "Anaconda3 and creating a separate environment to do this assignment. <br> \n",
    "\n",
    "\n",
    "The link to anaconda3 for Windows and Linux is available here https://docs.anaconda.com/anaconda/install/. <br>\n",
    "The steps to install NLTK is available on the link: <br>\n",
    "\n",
    "`sudo pip3 install nltk` <br>\n",
    "`python3` <br>\n",
    "`nltk.download()` <br>\n",
    "\n",
    "To install gensim, use the following command: (detailed tutorial) <br>\n",
    "`conda install -c conda-forge gensim` <br>\n",
    "\n",
    "<br>\n",
    "\n",
    "Note : For the purpose of your convenience, we are also providing you with a demo hands-on ipython notebook explaining the basics of language modelling using nltk."
   ]
  },
  {
   "cell_type": "markdown",
   "metadata": {},
   "source": [
    "## Assignment Tasks\n",
    "\n",
    "Use the corpus given. Ignore the .concept files and use the .txt files for each disease abstract.\n",
    "\n",
    "### Task A: In this sub-task, you are expected to carry out the following tasks:\n",
    "\n",
    "**Tokenize** the corpus into sentences and words (for each of the pos and neg class). **Print the number of sentences and words.** <br>\n",
    "**Perform case-folding** on the corpus. <br>\n",
    "**Remove the stopwords** from the corpus and print the count of the rest of the non stop-words occurring in the corpus.<br>"
   ]
  },
  {
   "cell_type": "code",
   "execution_count": null,
   "metadata": {},
   "outputs": [],
   "source": [
    "#Write the code for Task A"
   ]
  },
  {
   "cell_type": "markdown",
   "metadata": {},
   "source": [
    "### Task B: In this sub-task, you are expected to carry out the following tasks:\n",
    "\n",
    "1. **Create the following language models** on the training corpus: <br>\n",
    "    i.   Unigram <br>\n",
    "    ii.  Bigram <br>\n",
    "    iii. Trigram <br>\n",
    "    iv.  Fourgram <br>\n",
    "\n",
    "2. **List the top 5 bigrams, trigrams, four-grams (with and without Add-1 smoothing).**\n",
    "(Note: Please remove those which contain only articles, prepositions, determiners. For Example: “of the”, “in a”, etc)."
   ]
  },
  {
   "cell_type": "code",
   "execution_count": null,
   "metadata": {},
   "outputs": [],
   "source": [
    "#Write the code for Task B\n",
    "\n",
    "from nltk.util import ngrams\n",
    "unigrams=[]\n",
    "bigrams=[]\n",
    "trigrams=[]\n",
    "fourgrams=[]\n",
    "#n=2\n",
    "for content in (#pre_processed corpus):\n",
    "    unigrams.extend(words)\n",
    "    bigrams.extend(ngrams(content,2))\n",
    "    ##similar for trigrams and fourgrams"
   ]
  },
  {
   "cell_type": "code",
   "execution_count": null,
   "metadata": {},
   "outputs": [],
   "source": [
    "#stopwords = code for downloading stop words through nltk\n",
    "\n",
    "#print top 10 unigrams, bigrams after removing stopwords\n",
    "uni_processed = [p for p in unigrams if p not in stopwords]\n",
    "fdist = nltk.FreqDist(uni_processed)\n",
    "print(list(fdist.keys())[:10])\n",
    "\n",
    "#print top 10 bigrams, trigrams, fourgrams after removing stopwords"
   ]
  },
  {
   "cell_type": "markdown",
   "metadata": {},
   "source": [
    "### With Smoothing"
   ]
  },
  {
   "cell_type": "code",
   "execution_count": null,
   "metadata": {},
   "outputs": [],
   "source": [
    "#You are to perform Add-1 smoothing here:\n",
    "Probability(unigram) = count(unigram)/Number of unique unigrams + Total number of unigrams\n",
    "\n",
    "#write similar code for bigram, trigram and fourgrams\n",
    "\n",
    "#Print top 10 unigram, bigram, trigram, fourgram after smoothing"
   ]
  },
  {
   "cell_type": "markdown",
   "metadata": {},
   "source": [
    "### Predict the next word using statistical language modelling\n",
    "\n",
    "Using the above bigram, trigram, and fourgram models that you just experimented with, **predict the next word given the previous n(=2, 3, 4)-grams** for the sentences below."
   ]
  },
  {
   "cell_type": "code",
   "execution_count": null,
   "metadata": {},
   "outputs": [],
   "source": [
    "str1 = 'A new tumor suppressor gene, PTEN/MMAC1, was isolated recently'\n",
    "str2 = 'The average age of disease'"
   ]
  },
  {
   "cell_type": "code",
   "execution_count": null,
   "metadata": {},
   "outputs": [],
   "source": [
    "For str1, you are to predict the next  2 possible word sequences using your trained smoothed models. The answers can be as below:()\n",
    "    1) 'A new tumor suppressor gene, PTEN/MMAC1, was isolated recently' *genuinely*\n",
    "    2)  'A new tumor suppressor gene, PTEN/MMAC1, was isolated recently' *yesterday*\n",
    "For str2, you are to predict the next 2 possible word sequences using your trained smoothed models such as:\n",
    "    (1) 'The average age of disease', *hinders*\n",
    "    (2) 'The average age of disease', *past*\n",
    "The above answers are not solutions but just examples to explain the task."
   ]
  },
  {
   "cell_type": "markdown",
   "metadata": {},
   "source": [
    "### Task C: In this task, you are to perform the following tasks:\n",
    "\n",
    "1. **Train word vectors** on the given corpus. In order to train the word vectors on your corpus, using the gensim module (https://radimrehurek.com/gensim/models/word2vec.html) with pre-trained Google word embeddings (GoogleNews-vectors) . For multi-word disease mentions, concatenate each word with a ‘_’.  <br>\n",
    "\n",
    "2. **Construct a t-SNE plot** of the trained word vectors of the disease mentions.\n",
    "\n",
    "3. **Repeat experiment 1. and 2.** using the following hyper-parameter settings:\n",
    "Use window size = 5, 10.<br>\n",
    "Use embedding dimension = 50, 100, 200.<br>\n"
   ]
  },
  {
   "cell_type": "code",
   "execution_count": null,
   "metadata": {},
   "outputs": [],
   "source": [
    "#Write the code for Task C\n"
   ]
  },
  {
   "cell_type": "markdown",
   "metadata": {},
   "source": [
    "### Task D: Predict the next word using neural language modelling\n",
    "\n",
    "Using LSTM Language modelling, you are expected to **train your own word vectors and predict the next word, given the context**."
   ]
  },
  {
   "cell_type": "code",
   "execution_count": null,
   "metadata": {},
   "outputs": [],
   "source": [
    "#code for Task D\n",
    "\n",
    "from numpy import array\n",
    "from keras.preprocessing.text import Tokenizer\n",
    "from keras.utils import to_categorical\n",
    "from keras.preprocessing.sequence import pad_sequences\n",
    "from keras.models import Sequential\n",
    "from keras.layers import Dense\n",
    "from keras.layers import LSTM\n",
    "from keras.layers import Embedding\n",
    "\n",
    "\n",
    "## Prepare the corpus from the .txt files and store it in a string variable i.e data_str. It should contain the \n",
    "## sentences splitted by \"\\n\".\n",
    "import os, glob\n",
    "\n",
    "def generate_data\n",
    "os.chdir('NCBI_Data')\n",
    "data=[]\n",
    "for file in glob.glob(\"*.txt\"):\n",
    "\tf=open(file)\n",
    "\tcontent=f.read()\n",
    "\tfor line in content.split(\"\\n\"):\n",
    "\t\tif(line!=\"\"):\n",
    "\t\t\tdata.append(line)\n",
    "\n",
    "#print(data)\n",
    "data_str=\"\\n\".join(data)\n",
    "print(data_str)\n",
    "\n",
    "\n",
    "# generate the sequence \n",
    "\n",
    "def generate_seq(model, tokenizer, max_length, seed_text, n_words):\n",
    "    \n",
    "\tin_text = seed_text\n",
    "        ## Your code should go here\n",
    "\treturn in_text\n",
    " \n",
    "tokenizer = Tokenizer()\n",
    "tokenizer.fit_on_texts([data_str])\n",
    "\n",
    "# Write the code for encoding text to sequences here and store in encoded\n",
    "\n",
    "\n",
    "# retrieve vocabulary size\n",
    "vocab_size = len(tokenizer.word_index) + 1\n",
    "print('Vocabulary Size: %d' % vocab_size)\n",
    "# encode 2 words -> 1 word\n",
    "sequences = list()\n",
    "for i in range(2, len(encoded)):\n",
    "\tsequence = encoded[i-2:i+1]\n",
    "\tsequences.append(sequence)\n",
    "\n",
    "\n",
    "print('Total Sequences: %d' % len(sequences))\n",
    "# pad sequences\n",
    "max_length = max([len(seq) for seq in sequences])\n",
    "sequences = pad_sequences(sequences, maxlen=max_length, padding='pre')\n",
    "print('Max Sequence Length: %d' % max_length)\n",
    "# split into input and output elements\n",
    "sequences = array(sequences)\n",
    "X, y = sequences[:,:-1],sequences[:,-1]\n",
    "y = to_categorical(y, num_classes=vocab_size)\n",
    "# define model\n",
    "model = Sequential()\n",
    "model.add(Embedding(vocab_size, 10, input_length=max_length-1))\n",
    "model.add(LSTM(50))\n",
    "model.add(Dense(vocab_size, activation='softmax'))\n",
    "print(model.summary())\n",
    "# compile network\n",
    "model.compile(loss='categorical_crossentropy', optimizer='adam', metrics=['accuracy'])\n",
    "# fit network\n",
    "model.fit(X, y, epochs=500, verbose=2)\n",
    "# evaluate model\n",
    "print(generate_seq(model, tokenizer, max_length-1, 'A new tumor suppressor gene, PTEN/MMAC1, was isolated recently', 1))\n",
    "print(generate_seq(model, tokenizer, max_length-1, 'The average age of disease', 1))"
   ]
  },
  {
   "cell_type": "code",
   "execution_count": null,
   "metadata": {},
   "outputs": [],
   "source": []
  }
 ],
 "metadata": {
  "kernelspec": {
   "display_name": "Python 3",
   "language": "python",
   "name": "python3"
  },
  "language_info": {
   "codemirror_mode": {
    "name": "ipython",
    "version": 3
   },
   "file_extension": ".py",
   "mimetype": "text/x-python",
   "name": "python",
   "nbconvert_exporter": "python",
   "pygments_lexer": "ipython3",
   "version": "3.6.8"
  }
 },
 "nbformat": 4,
 "nbformat_minor": 2
}
